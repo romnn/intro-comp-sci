{
 "cells": [
  {
   "cell_type": "code",
   "execution_count": 64,
   "id": "b4f3bf18-ad83-46a7-93f1-a0dfc230e216",
   "metadata": {},
   "outputs": [],
   "source": [
    "import os\n",
    "import pathlib\n",
    "import pandas as pd\n",
    "import seaborn as sns"
   ]
  },
  {
   "cell_type": "code",
   "execution_count": 65,
   "id": "c5bc113e-b04c-458d-b855-c5f5fe8a9858",
   "metadata": {},
   "outputs": [
    {
     "data": {
      "text/html": [
       "<div>\n",
       "<style scoped>\n",
       "    .dataframe tbody tr th:only-of-type {\n",
       "        vertical-align: middle;\n",
       "    }\n",
       "\n",
       "    .dataframe tbody tr th {\n",
       "        vertical-align: top;\n",
       "    }\n",
       "\n",
       "    .dataframe thead th {\n",
       "        text-align: right;\n",
       "    }\n",
       "</style>\n",
       "<table border=\"1\" class=\"dataframe\">\n",
       "  <thead>\n",
       "    <tr style=\"text-align: right;\">\n",
       "      <th></th>\n",
       "      <th></th>\n",
       "      <th>new infections per 1000</th>\n",
       "    </tr>\n",
       "    <tr>\n",
       "      <th>region</th>\n",
       "      <th>year</th>\n",
       "      <th></th>\n",
       "    </tr>\n",
       "  </thead>\n",
       "  <tbody>\n",
       "    <tr>\n",
       "      <th rowspan=\"5\" valign=\"top\">Global</th>\n",
       "      <th>2020</th>\n",
       "      <td>0.19</td>\n",
       "    </tr>\n",
       "    <tr>\n",
       "      <th>2019</th>\n",
       "      <td>0.20</td>\n",
       "    </tr>\n",
       "    <tr>\n",
       "      <th>2018</th>\n",
       "      <td>0.21</td>\n",
       "    </tr>\n",
       "    <tr>\n",
       "      <th>2017</th>\n",
       "      <td>0.23</td>\n",
       "    </tr>\n",
       "    <tr>\n",
       "      <th>2016</th>\n",
       "      <td>0.24</td>\n",
       "    </tr>\n",
       "    <tr>\n",
       "      <th>...</th>\n",
       "      <th>...</th>\n",
       "      <td>...</td>\n",
       "    </tr>\n",
       "    <tr>\n",
       "      <th rowspan=\"5\" valign=\"top\">Western Pacific</th>\n",
       "      <th>1994</th>\n",
       "      <td>0.08</td>\n",
       "    </tr>\n",
       "    <tr>\n",
       "      <th>1993</th>\n",
       "      <td>0.03</td>\n",
       "    </tr>\n",
       "    <tr>\n",
       "      <th>1992</th>\n",
       "      <td>0.02</td>\n",
       "    </tr>\n",
       "    <tr>\n",
       "      <th>1991</th>\n",
       "      <td>0.02</td>\n",
       "    </tr>\n",
       "    <tr>\n",
       "      <th>1990</th>\n",
       "      <td>0.01</td>\n",
       "    </tr>\n",
       "  </tbody>\n",
       "</table>\n",
       "<p>217 rows × 1 columns</p>\n",
       "</div>"
      ],
      "text/plain": [
       "                      new infections per 1000\n",
       "region          year                         \n",
       "Global          2020                     0.19\n",
       "                2019                     0.20\n",
       "                2018                     0.21\n",
       "                2017                     0.23\n",
       "                2016                     0.24\n",
       "...                                       ...\n",
       "Western Pacific 1994                     0.08\n",
       "                1993                     0.03\n",
       "                1992                     0.02\n",
       "                1991                     0.02\n",
       "                1990                     0.01\n",
       "\n",
       "[217 rows x 1 columns]"
      ]
     },
     "execution_count": 65,
     "metadata": {},
     "output_type": "execute_result"
    }
   ],
   "source": [
    "current_dir = pathlib.Path('').parent.resolve()\n",
    "data_dir = current_dir / \"data\"\n",
    "data = pd.read_csv(data_dir / 'new_hiv_infections.csv', names=[\n",
    "    \"region\", \"year\", \"num new infections\", \"new infections per 1000\"])\n",
    "data = data[2:]\n",
    "data = data.dropna()\n",
    "data.iloc[:,1] = data.iloc[:,1].astype('int32')\n",
    "data = data.set_index([\"region\", \"year\"])\n",
    "data.iloc[:,1] = data.iloc[:,1].apply(lambda x: x.split(\"[\")[0]).str.extract('(\\d+.?\\d*)', expand=False).astype('float')\n",
    "data = data.iloc[:,[1]]\n",
    "data"
   ]
  },
  {
   "cell_type": "code",
   "execution_count": 74,
   "id": "5d18c288-3f40-42aa-b9d3-1eb67ef51818",
   "metadata": {},
   "outputs": [
    {
     "data": {
      "text/plain": [
       "<AxesSubplot:xlabel='year', ylabel='new infections per 1000'>"
      ]
     },
     "execution_count": 74,
     "metadata": {},
     "output_type": "execute_result"
    },
    {
     "data": {
      "image/png": "[encoded data removed]",
      "text/plain": [
       "<Figure size 432x288 with 1 Axes>"
      ]
     },
     "metadata": {
      "needs_background": "light"
     },
     "output_type": "display_data"
    }
   ],
   "source": [
    "idx = data.index.to_frame()\n",
    "data_past_10_years = data[(idx.year > 2010) & (idx.region == \"Global\")]\n",
    "sns.lineplot(data=data_past_10_years, x=\"year\", y=\"new infections per 1000\")"
   ]
  },
  {
   "cell_type": "code",
   "execution_count": null,
   "id": "b2a68d85-7a08-4160-8e4a-16aff65a7daf",
   "metadata": {},
   "outputs": [],
   "source": []
  }
 ],
 "metadata": {
  "kernelspec": {
   "display_name": "Python 3 (ipykernel)",
   "language": "python",
   "name": "python3"
  },
  "language_info": {
   "codemirror_mode": {
    "name": "ipython",
    "version": 3
   },
   "file_extension": ".py",
   "mimetype": "text/x-python",
   "name": "python",
   "nbconvert_exporter": "python",
   "pygments_lexer": "ipython3",
   "version": "3.9.6"
  }
 },
 "nbformat": 4,
 "nbformat_minor": 5
}
