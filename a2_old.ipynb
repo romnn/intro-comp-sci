{
 "cells": [
  {
   "cell_type": "code",
   "execution_count": null,
   "id": "cac7de9c-59d1-40f5-b0f0-598af26c539e",
   "metadata": {},
   "outputs": [],
   "source": [
    "def simulate_sir_ndlib(beta=0.001, gamma=0.01, i0=0.05, network_size=1000, edge_prob=0.1, iterations=200):\n",
    "    # build a network\n",
    "    g = nx.erdos_renyi_graph(network_size, edge_prob)\n",
    "    \n",
    "    # parameterize\n",
    "    config = mc.Configuration()\n",
    "    config.add_model_parameter('beta', beta)\n",
    "    config.add_model_parameter('gamma', gamma)\n",
    "    config.add_model_parameter(\"fraction_infected\", i0)\n",
    "    \n",
    "    model = ep.SIRModel(g)\n",
    "    model.set_initial_status(config)\n",
    "    \n",
    "    # simulate\n",
    "    simulations = model.iteration_bunch(iterations)\n",
    "    trends = model.build_trends(simulations)\n",
    "    \n",
    "    # build results\n",
    "    compartments = list(model.available_statuses.values())\n",
    "    results = np.zeros((len(simulations), len(compartments)))\n",
    "    for it in simulations:\n",
    "        for compartment, node_count in it[\"node_count\"].items():\n",
    "            results[it[\"iteration\"], compartment] = node_count\n",
    "    \n",
    "    # visualize\n",
    "    viz = DiffusionTrend(model, trends)\n",
    "    return (model, g), (results, simulations, trends), viz"
   ]
  },
  {
   "cell_type": "code",
   "execution_count": 1,
   "id": "7d37fc66-c5fb-4702-a9b2-ad73682cd849",
   "metadata": {},
   "outputs": [
    {
     "ename": "NameError",
     "evalue": "name 'SIR_Demographic' is not defined",
     "output_type": "error",
     "traceback": [
      "\u001b[0;31m---------------------------------------------------------------------------\u001b[0m",
      "\u001b[0;31mNameError\u001b[0m                                 Traceback (most recent call last)",
      "\u001b[0;32m/var/folders/r0/g076kbw90cs5scw1k46_049r0000gn/T/ipykernel_6478/3109538111.py\u001b[0m in \u001b[0;36m<module>\u001b[0;34m\u001b[0m\n\u001b[1;32m      2\u001b[0m     \u001b[0mbeta\u001b[0m\u001b[0;34m=\u001b[0m\u001b[0;36m0.1\u001b[0m\u001b[0;34m,\u001b[0m \u001b[0mgamma\u001b[0m\u001b[0;34m=\u001b[0m\u001b[0;36m0.01\u001b[0m\u001b[0;34m,\u001b[0m \u001b[0mmu\u001b[0m\u001b[0;34m=\u001b[0m\u001b[0;36m0.0\u001b[0m\u001b[0;34m,\u001b[0m \u001b[0mi0\u001b[0m\u001b[0;34m=\u001b[0m\u001b[0;36m0.1\u001b[0m\u001b[0;34m,\u001b[0m \u001b[0mN_pop\u001b[0m\u001b[0;34m=\u001b[0m\u001b[0;36m1000\u001b[0m\u001b[0;34m\u001b[0m\u001b[0;34m\u001b[0m\u001b[0m\n\u001b[1;32m      3\u001b[0m )\n\u001b[0;32m----> 4\u001b[0;31m \u001b[0mmodel\u001b[0m \u001b[0;34m=\u001b[0m \u001b[0mSIR_Demographic\u001b[0m\u001b[0;34m(\u001b[0m\u001b[0;34m**\u001b[0m\u001b[0mconfig\u001b[0m\u001b[0;34m)\u001b[0m\u001b[0;34m\u001b[0m\u001b[0;34m\u001b[0m\u001b[0m\n\u001b[0m\u001b[1;32m      5\u001b[0m \u001b[0mt\u001b[0m\u001b[0;34m,\u001b[0m \u001b[0mtt\u001b[0m\u001b[0;34m,\u001b[0m \u001b[0mresult\u001b[0m \u001b[0;34m=\u001b[0m \u001b[0mmodel\u001b[0m\u001b[0;34m.\u001b[0m\u001b[0msimulate\u001b[0m\u001b[0;34m(\u001b[0m\u001b[0;36m200\u001b[0m\u001b[0;34m)\u001b[0m\u001b[0;34m\u001b[0m\u001b[0;34m\u001b[0m\u001b[0m\n\u001b[1;32m      6\u001b[0m \u001b[0mprint\u001b[0m\u001b[0;34m(\u001b[0m\u001b[0mtt\u001b[0m\u001b[0;34m.\u001b[0m\u001b[0mshape\u001b[0m\u001b[0;34m,\u001b[0m \u001b[0mresult\u001b[0m\u001b[0;34m.\u001b[0m\u001b[0mshape\u001b[0m\u001b[0;34m)\u001b[0m\u001b[0;34m\u001b[0m\u001b[0;34m\u001b[0m\u001b[0m\n",
      "\u001b[0;31mNameError\u001b[0m: name 'SIR_Demographic' is not defined"
     ]
    }
   ],
   "source": [
    "config = dict(\n",
    "    beta=0.1, gamma=0.01, mu=0.0, i0=0.1, N_pop=1000\n",
    ")\n",
    "model = SIR_Demographic(**config)\n",
    "t, tt, result = model.simulate(200)\n",
    "print(tt.shape, result.shape)\n",
    "\n",
    "fig, ax = plt.subplots()\n",
    "for idx, label in [\n",
    "    (0, \"susceptible\"), (1, \"infected\"), (2, \"recovered\")\n",
    "]:\n",
    "    # mean = results[:,:,idx].mean(axis=0) / config[\"N_pop\"]\n",
    "    # std = results[:,:,idx].std(axis=0) / config[\"N_pop\"]\n",
    "    ax.plot(tt, result[:,idx], label=label, color=colors[idx])\n",
    "plt.show()"
   ]
  },
  {
   "cell_type": "code",
   "execution_count": 2,
   "id": "d9edb9a8-ab2e-49b5-be10-9857ee2657d4",
   "metadata": {},
   "outputs": [
    {
     "ename": "NameError",
     "evalue": "name 'simulate_sir' is not defined",
     "output_type": "error",
     "traceback": [
      "\u001b[0;31m---------------------------------------------------------------------------\u001b[0m",
      "\u001b[0;31mNameError\u001b[0m                                 Traceback (most recent call last)",
      "\u001b[0;32m/var/folders/r0/g076kbw90cs5scw1k46_049r0000gn/T/ipykernel_6478/1869372366.py\u001b[0m in \u001b[0;36m<module>\u001b[0;34m\u001b[0m\n\u001b[1;32m      7\u001b[0m )\n\u001b[1;32m      8\u001b[0m \u001b[0;32mfor\u001b[0m \u001b[0mr\u001b[0m \u001b[0;32min\u001b[0m \u001b[0mrange\u001b[0m\u001b[0;34m(\u001b[0m\u001b[0mrepetitions\u001b[0m\u001b[0;34m)\u001b[0m\u001b[0;34m:\u001b[0m\u001b[0;34m\u001b[0m\u001b[0;34m\u001b[0m\u001b[0m\n\u001b[0;32m----> 9\u001b[0;31m     \u001b[0m_\u001b[0m\u001b[0;34m,\u001b[0m \u001b[0;34m(\u001b[0m\u001b[0mrun_result\u001b[0m\u001b[0;34m,\u001b[0m \u001b[0m_\u001b[0m\u001b[0;34m,\u001b[0m \u001b[0m_\u001b[0m\u001b[0;34m)\u001b[0m\u001b[0;34m,\u001b[0m \u001b[0m_\u001b[0m \u001b[0;34m=\u001b[0m \u001b[0msimulate_sir\u001b[0m\u001b[0;34m(\u001b[0m\u001b[0;34m**\u001b[0m\u001b[0mconfig\u001b[0m\u001b[0;34m)\u001b[0m\u001b[0;34m\u001b[0m\u001b[0;34m\u001b[0m\u001b[0m\n\u001b[0m\u001b[1;32m     10\u001b[0m     \u001b[0mresults\u001b[0m\u001b[0;34m.\u001b[0m\u001b[0mappend\u001b[0m\u001b[0;34m(\u001b[0m\u001b[0mrun_result\u001b[0m\u001b[0;34m)\u001b[0m\u001b[0;34m\u001b[0m\u001b[0;34m\u001b[0m\u001b[0m\n\u001b[1;32m     11\u001b[0m \u001b[0;34m\u001b[0m\u001b[0m\n",
      "\u001b[0;31mNameError\u001b[0m: name 'simulate_sir' is not defined"
     ]
    }
   ],
   "source": [
    "# show that for small network sizes, the stochastic event based model makes it impossible to \n",
    "# accurately predict the precise prevalence of the disease\n",
    "repetitions = 100\n",
    "results = []\n",
    "config = dict(\n",
    "    beta=0.01, gamma=0.01, i0=0.1, network_size=100, edge_prob=0.1,\n",
    ")\n",
    "for r in range(repetitions):\n",
    "    _, (run_result, _, _), _ = simulate_sir(**config)\n",
    "    results.append(run_result)\n",
    "    \n",
    "results = np.array(results)\n",
    "print(results.shape)"
   ]
  },
  {
   "cell_type": "code",
   "execution_count": 3,
   "id": "7565aa07-f0ae-4bd9-bc2b-5821738da5a5",
   "metadata": {},
   "outputs": [
    {
     "ename": "NameError",
     "evalue": "name 'plt' is not defined",
     "output_type": "error",
     "traceback": [
      "\u001b[0;31m---------------------------------------------------------------------------\u001b[0m",
      "\u001b[0;31mNameError\u001b[0m                                 Traceback (most recent call last)",
      "\u001b[0;32m/var/folders/r0/g076kbw90cs5scw1k46_049r0000gn/T/ipykernel_6478/449023541.py\u001b[0m in \u001b[0;36m<module>\u001b[0;34m\u001b[0m\n\u001b[1;32m      5\u001b[0m }\n\u001b[1;32m      6\u001b[0m \u001b[0;34m\u001b[0m\u001b[0m\n\u001b[0;32m----> 7\u001b[0;31m \u001b[0mfig\u001b[0m\u001b[0;34m,\u001b[0m \u001b[0max\u001b[0m \u001b[0;34m=\u001b[0m \u001b[0mplt\u001b[0m\u001b[0;34m.\u001b[0m\u001b[0msubplots\u001b[0m\u001b[0;34m(\u001b[0m\u001b[0;34m)\u001b[0m\u001b[0;34m\u001b[0m\u001b[0;34m\u001b[0m\u001b[0m\n\u001b[0m\u001b[1;32m      8\u001b[0m for idx, label in [\n\u001b[1;32m      9\u001b[0m     \u001b[0;34m(\u001b[0m\u001b[0;36m0\u001b[0m\u001b[0;34m,\u001b[0m \u001b[0;34m\"susceptible\"\u001b[0m\u001b[0;34m)\u001b[0m\u001b[0;34m,\u001b[0m \u001b[0;34m(\u001b[0m\u001b[0;36m1\u001b[0m\u001b[0;34m,\u001b[0m \u001b[0;34m\"infected\"\u001b[0m\u001b[0;34m)\u001b[0m\u001b[0;34m,\u001b[0m \u001b[0;34m(\u001b[0m\u001b[0;36m2\u001b[0m\u001b[0;34m,\u001b[0m \u001b[0;34m\"recovered\"\u001b[0m\u001b[0;34m)\u001b[0m\u001b[0;34m\u001b[0m\u001b[0;34m\u001b[0m\u001b[0m\n",
      "\u001b[0;31mNameError\u001b[0m: name 'plt' is not defined"
     ]
    }
   ],
   "source": [
    "colors = {\n",
    "    0: \"blue\",\n",
    "    1: \"red\",\n",
    "    2: \"green\",\n",
    "}\n",
    "\n",
    "fig, ax = plt.subplots()\n",
    "for idx, label in [\n",
    "    (0, \"susceptible\"), (1, \"infected\"), (2, \"recovered\")\n",
    "]:\n",
    "    mean = results[:,:,idx].mean(axis=0) / config[\"network_size\"]\n",
    "    std = results[:,:,idx].std(axis=0) / config[\"network_size\"]\n",
    "    ax.plot(mean, label=label, color=colors[idx])\n",
    "    ax.fill_between(\n",
    "        np.arange(len(mean)),\n",
    "        mean - std,\n",
    "        mean + std,\n",
    "        alpha=0.3,\n",
    "        color=colors[idx],\n",
    "    )\n",
    "plt.ylabel(\"fraction of population\")\n",
    "plt.xlabel(\"iterations\")\n",
    "plt.title((\n",
    "    \"SIR using Gillespie’s discrete event model \"\n",
    "    \"($\\gamma=%.2f$, $\\\\beta=%.2f$, $I_0=%.2f$, $N_{pop}=%d$, $p=%.2f$)\" % (\n",
    "    config[\"gamma\"], config[\"beta\"], config[\"i0\"], config[\"network_size\"], config[\"edge_prob\"],\n",
    ")))\n",
    "plt.legend()\n",
    "plt.show()"
   ]
  },
  {
   "cell_type": "code",
   "execution_count": 4,
   "id": "b521a44c-71f5-463c-8cf9-70f2a1efb2b6",
   "metadata": {},
   "outputs": [
    {
     "ename": "NameError",
     "evalue": "name 'simulate_sir' is not defined",
     "output_type": "error",
     "traceback": [
      "\u001b[0;31m---------------------------------------------------------------------------\u001b[0m",
      "\u001b[0;31mNameError\u001b[0m                                 Traceback (most recent call last)",
      "\u001b[0;32m/var/folders/r0/g076kbw90cs5scw1k46_049r0000gn/T/ipykernel_6478/383860813.py\u001b[0m in \u001b[0;36m<module>\u001b[0;34m\u001b[0m\n\u001b[1;32m      8\u001b[0m     \u001b[0mresults\u001b[0m \u001b[0;34m=\u001b[0m \u001b[0;34m[\u001b[0m\u001b[0;34m]\u001b[0m\u001b[0;34m\u001b[0m\u001b[0;34m\u001b[0m\u001b[0m\n\u001b[1;32m      9\u001b[0m     \u001b[0;32mfor\u001b[0m \u001b[0mr\u001b[0m \u001b[0;32min\u001b[0m \u001b[0mrange\u001b[0m\u001b[0;34m(\u001b[0m\u001b[0mrepetitions\u001b[0m\u001b[0;34m)\u001b[0m\u001b[0;34m:\u001b[0m\u001b[0;34m\u001b[0m\u001b[0;34m\u001b[0m\u001b[0m\n\u001b[0;32m---> 10\u001b[0;31m         \u001b[0m_\u001b[0m\u001b[0;34m,\u001b[0m \u001b[0;34m(\u001b[0m\u001b[0mrun_result\u001b[0m\u001b[0;34m,\u001b[0m \u001b[0m_\u001b[0m\u001b[0;34m,\u001b[0m \u001b[0m_\u001b[0m\u001b[0;34m)\u001b[0m\u001b[0;34m,\u001b[0m \u001b[0m_\u001b[0m \u001b[0;34m=\u001b[0m \u001b[0msimulate_sir\u001b[0m\u001b[0;34m(\u001b[0m\u001b[0;34m**\u001b[0m\u001b[0mconfig\u001b[0m\u001b[0;34m)\u001b[0m\u001b[0;34m\u001b[0m\u001b[0;34m\u001b[0m\u001b[0m\n\u001b[0m\u001b[1;32m     11\u001b[0m         \u001b[0mresults\u001b[0m\u001b[0;34m.\u001b[0m\u001b[0mappend\u001b[0m\u001b[0;34m(\u001b[0m\u001b[0mrun_result\u001b[0m\u001b[0;34m)\u001b[0m\u001b[0;34m\u001b[0m\u001b[0;34m\u001b[0m\u001b[0m\n\u001b[1;32m     12\u001b[0m     \u001b[0mresults\u001b[0m \u001b[0;34m=\u001b[0m \u001b[0mnp\u001b[0m\u001b[0;34m.\u001b[0m\u001b[0marray\u001b[0m\u001b[0;34m(\u001b[0m\u001b[0mresults\u001b[0m\u001b[0;34m)\u001b[0m\u001b[0;34m\u001b[0m\u001b[0;34m\u001b[0m\u001b[0m\n",
      "\u001b[0;31mNameError\u001b[0m: name 'simulate_sir' is not defined"
     ]
    }
   ],
   "source": [
    "network_sizes = range(10,500,10)\n",
    "repetitions = 5\n",
    "per_network_size_results = []\n",
    "for size in network_sizes:\n",
    "    config = dict(\n",
    "        beta=0.01, gamma=0.01, i0=0.1, network_size=size, edge_prob=0.1,\n",
    "    )\n",
    "    results = []\n",
    "    for r in range(repetitions):\n",
    "        _, (run_result, _, _), _ = simulate_sir(**config)\n",
    "        results.append(run_result)\n",
    "    results = np.array(results)\n",
    "    mean_std = results[:,:,0].std(axis=0).mean()\n",
    "    per_network_size_results.append(mean_std)\n",
    "    \n",
    "per_network_size_results = np.array(per_network_size_results)\n",
    "print(per_network_size_results.shape)"
   ]
  },
  {
   "cell_type": "code",
   "execution_count": 5,
   "id": "3173d11b-d4f8-4212-8765-f0d679c9b085",
   "metadata": {},
   "outputs": [
    {
     "ename": "NameError",
     "evalue": "name 'plt' is not defined",
     "output_type": "error",
     "traceback": [
      "\u001b[0;31m---------------------------------------------------------------------------\u001b[0m",
      "\u001b[0;31mNameError\u001b[0m                                 Traceback (most recent call last)",
      "\u001b[0;32m/var/folders/r0/g076kbw90cs5scw1k46_049r0000gn/T/ipykernel_6478/2963039758.py\u001b[0m in \u001b[0;36m<module>\u001b[0;34m\u001b[0m\n\u001b[0;32m----> 1\u001b[0;31m \u001b[0mfig\u001b[0m\u001b[0;34m,\u001b[0m \u001b[0max\u001b[0m \u001b[0;34m=\u001b[0m \u001b[0mplt\u001b[0m\u001b[0;34m.\u001b[0m\u001b[0msubplots\u001b[0m\u001b[0;34m(\u001b[0m\u001b[0;34m)\u001b[0m\u001b[0;34m\u001b[0m\u001b[0;34m\u001b[0m\u001b[0m\n\u001b[0m\u001b[1;32m      2\u001b[0m \u001b[0max\u001b[0m\u001b[0;34m.\u001b[0m\u001b[0mplot\u001b[0m\u001b[0;34m(\u001b[0m\u001b[0mnetwork_sizes\u001b[0m\u001b[0;34m,\u001b[0m \u001b[0mper_network_size_results\u001b[0m\u001b[0;34m)\u001b[0m\u001b[0;34m\u001b[0m\u001b[0;34m\u001b[0m\u001b[0m\n\u001b[1;32m      3\u001b[0m \u001b[0mplt\u001b[0m\u001b[0;34m.\u001b[0m\u001b[0mylabel\u001b[0m\u001b[0;34m(\u001b[0m\u001b[0;34m\"absolute standard deviation of infections\"\u001b[0m\u001b[0;34m)\u001b[0m\u001b[0;34m\u001b[0m\u001b[0;34m\u001b[0m\u001b[0m\n\u001b[1;32m      4\u001b[0m \u001b[0mplt\u001b[0m\u001b[0;34m.\u001b[0m\u001b[0mxlabel\u001b[0m\u001b[0;34m(\u001b[0m\u001b[0;34m\"network size $N_{pop}$\"\u001b[0m\u001b[0;34m)\u001b[0m\u001b[0;34m\u001b[0m\u001b[0;34m\u001b[0m\u001b[0m\n\u001b[1;32m      5\u001b[0m plt.title((\n",
      "\u001b[0;31mNameError\u001b[0m: name 'plt' is not defined"
     ]
    }
   ],
   "source": [
    "fig, ax = plt.subplots()\n",
    "ax.plot(network_sizes, per_network_size_results)\n",
    "plt.ylabel(\"absolute standard deviation of infections\")\n",
    "plt.xlabel(\"network size $N_{pop}$\")\n",
    "plt.title((\n",
    "    \"SIR using Gillespie’s discrete event model \"\n",
    "    \"($\\gamma=%.2f$, $\\\\beta=%.2f$, $I_0=%.2f$, $p=%.2f$)\" % (\n",
    "    config[\"gamma\"], config[\"beta\"], config[\"i0\"], config[\"edge_prob\"],\n",
    ")))\n",
    "plt.show()"
   ]
  },
  {
   "cell_type": "code",
   "execution_count": 6,
   "id": "fe8eb096-fc47-4481-b17d-aa31cea7d1ce",
   "metadata": {},
   "outputs": [
    {
     "ename": "NameError",
     "evalue": "name 'simulate_sir' is not defined",
     "output_type": "error",
     "traceback": [
      "\u001b[0;31m---------------------------------------------------------------------------\u001b[0m",
      "\u001b[0;31mNameError\u001b[0m                                 Traceback (most recent call last)",
      "\u001b[0;32m/var/folders/r0/g076kbw90cs5scw1k46_049r0000gn/T/ipykernel_6478/1786664099.py\u001b[0m in \u001b[0;36m<module>\u001b[0;34m\u001b[0m\n\u001b[1;32m      8\u001b[0m     \u001b[0mresults\u001b[0m \u001b[0;34m=\u001b[0m \u001b[0;34m[\u001b[0m\u001b[0;34m]\u001b[0m\u001b[0;34m\u001b[0m\u001b[0;34m\u001b[0m\u001b[0m\n\u001b[1;32m      9\u001b[0m     \u001b[0;32mfor\u001b[0m \u001b[0mr\u001b[0m \u001b[0;32min\u001b[0m \u001b[0mrange\u001b[0m\u001b[0;34m(\u001b[0m\u001b[0mrepetitions\u001b[0m\u001b[0;34m)\u001b[0m\u001b[0;34m:\u001b[0m\u001b[0;34m\u001b[0m\u001b[0;34m\u001b[0m\u001b[0m\n\u001b[0;32m---> 10\u001b[0;31m         \u001b[0m_\u001b[0m\u001b[0;34m,\u001b[0m \u001b[0;34m(\u001b[0m\u001b[0mrun_result\u001b[0m\u001b[0;34m,\u001b[0m \u001b[0m_\u001b[0m\u001b[0;34m,\u001b[0m \u001b[0m_\u001b[0m\u001b[0;34m)\u001b[0m\u001b[0;34m,\u001b[0m \u001b[0m_\u001b[0m \u001b[0;34m=\u001b[0m \u001b[0msimulate_sir\u001b[0m\u001b[0;34m(\u001b[0m\u001b[0mnetwork_size\u001b[0m\u001b[0;34m=\u001b[0m\u001b[0msize\u001b[0m\u001b[0;34m,\u001b[0m \u001b[0;34m**\u001b[0m\u001b[0mconfig\u001b[0m\u001b[0;34m)\u001b[0m\u001b[0;34m\u001b[0m\u001b[0;34m\u001b[0m\u001b[0m\n\u001b[0m\u001b[1;32m     11\u001b[0m         \u001b[0mresults\u001b[0m\u001b[0;34m.\u001b[0m\u001b[0mappend\u001b[0m\u001b[0;34m(\u001b[0m\u001b[0mrun_result\u001b[0m\u001b[0;34m)\u001b[0m\u001b[0;34m\u001b[0m\u001b[0;34m\u001b[0m\u001b[0m\n\u001b[1;32m     12\u001b[0m     \u001b[0mresults\u001b[0m \u001b[0;34m=\u001b[0m \u001b[0mnp\u001b[0m\u001b[0;34m.\u001b[0m\u001b[0marray\u001b[0m\u001b[0;34m(\u001b[0m\u001b[0mresults\u001b[0m\u001b[0;34m)\u001b[0m\u001b[0;34m.\u001b[0m\u001b[0mmean\u001b[0m\u001b[0;34m(\u001b[0m\u001b[0maxis\u001b[0m\u001b[0;34m=\u001b[0m\u001b[0;36m0\u001b[0m\u001b[0;34m)\u001b[0m \u001b[0;34m/\u001b[0m \u001b[0msize\u001b[0m\u001b[0;34m\u001b[0m\u001b[0;34m\u001b[0m\u001b[0m\n",
      "\u001b[0;31mNameError\u001b[0m: name 'simulate_sir' is not defined"
     ]
    }
   ],
   "source": [
    "network_sizes = range(10,500,10)\n",
    "repetitions = 5\n",
    "cov_per_network_size = []\n",
    "config = dict(\n",
    "    beta=0.01, gamma=0.01, i0=0.1,\n",
    ")\n",
    "for size in network_sizes:\n",
    "    results = []\n",
    "    for r in range(repetitions):\n",
    "        _, (run_result, _, _), _ = simulate_sir(network_size=size, **config)\n",
    "        results.append(run_result)\n",
    "    results = np.array(results).mean(axis=0) / size\n",
    "    cov_per_network_size.append(np.cov(results[:,0], results[:,1])) # s wrt i\n",
    "    \n",
    "cov_per_network_size = np.array(cov_per_network_size)\n",
    "print(cov_per_network_size.shape)"
   ]
  },
  {
   "cell_type": "code",
   "execution_count": 7,
   "id": "40a10df5-3aff-4bdb-bab8-0b9a04043017",
   "metadata": {},
   "outputs": [
    {
     "ename": "NameError",
     "evalue": "name 'plt' is not defined",
     "output_type": "error",
     "traceback": [
      "\u001b[0;31m---------------------------------------------------------------------------\u001b[0m",
      "\u001b[0;31mNameError\u001b[0m                                 Traceback (most recent call last)",
      "\u001b[0;32m/var/folders/r0/g076kbw90cs5scw1k46_049r0000gn/T/ipykernel_6478/827914118.py\u001b[0m in \u001b[0;36m<module>\u001b[0;34m\u001b[0m\n\u001b[0;32m----> 1\u001b[0;31m \u001b[0mfig\u001b[0m\u001b[0;34m,\u001b[0m \u001b[0max\u001b[0m \u001b[0;34m=\u001b[0m \u001b[0mplt\u001b[0m\u001b[0;34m.\u001b[0m\u001b[0msubplots\u001b[0m\u001b[0;34m(\u001b[0m\u001b[0;34m)\u001b[0m\u001b[0;34m\u001b[0m\u001b[0;34m\u001b[0m\u001b[0m\n\u001b[0m\u001b[1;32m      2\u001b[0m \u001b[0max\u001b[0m\u001b[0;34m.\u001b[0m\u001b[0mplot\u001b[0m\u001b[0;34m(\u001b[0m\u001b[0mnetwork_sizes\u001b[0m\u001b[0;34m,\u001b[0m \u001b[0mcov_per_network_size\u001b[0m\u001b[0;34m[\u001b[0m\u001b[0;34m:\u001b[0m\u001b[0;34m,\u001b[0m\u001b[0;36m0\u001b[0m\u001b[0;34m,\u001b[0m\u001b[0;36m1\u001b[0m\u001b[0;34m]\u001b[0m\u001b[0;34m)\u001b[0m\u001b[0;34m\u001b[0m\u001b[0;34m\u001b[0m\u001b[0m\n\u001b[1;32m      3\u001b[0m \u001b[0mplt\u001b[0m\u001b[0;34m.\u001b[0m\u001b[0mylabel\u001b[0m\u001b[0;34m(\u001b[0m\u001b[0;34m\"covariance of susceptible and infected\"\u001b[0m\u001b[0;34m)\u001b[0m\u001b[0;34m\u001b[0m\u001b[0;34m\u001b[0m\u001b[0m\n\u001b[1;32m      4\u001b[0m \u001b[0mplt\u001b[0m\u001b[0;34m.\u001b[0m\u001b[0mxlabel\u001b[0m\u001b[0;34m(\u001b[0m\u001b[0;34m\"network size $N_{pop}$\"\u001b[0m\u001b[0;34m)\u001b[0m\u001b[0;34m\u001b[0m\u001b[0;34m\u001b[0m\u001b[0m\n\u001b[1;32m      5\u001b[0m plt.title((\n",
      "\u001b[0;31mNameError\u001b[0m: name 'plt' is not defined"
     ]
    }
   ],
   "source": [
    "fig, ax = plt.subplots()\n",
    "ax.plot(network_sizes, cov_per_network_size[:,0,1])\n",
    "plt.ylabel(\"covariance of susceptible and infected\")\n",
    "plt.xlabel(\"network size $N_{pop}$\")\n",
    "plt.title((\n",
    "    \"SIR using Gillespie’s discrete event model \"\n",
    "    \"($\\gamma=%.2f$, $\\\\beta=%.2f$, $I_0=%.2f$, $p=%.2f$)\" % (\n",
    "    config[\"gamma\"], config[\"beta\"], config[\"i0\"], config[\"edge_prob\"],\n",
    ")))\n",
    "plt.show()"
   ]
  },
  {
   "cell_type": "code",
   "execution_count": 8,
   "id": "8eda28da-f96b-4bdd-8a2c-d39b231188da",
   "metadata": {},
   "outputs": [
    {
     "ename": "IndentationError",
     "evalue": "unexpected indent (2847956135.py, line 2)",
     "output_type": "error",
     "traceback": [
      "\u001b[0;36m  File \u001b[0;32m\"/var/folders/r0/g076kbw90cs5scw1k46_049r0000gn/T/ipykernel_6478/2847956135.py\"\u001b[0;36m, line \u001b[0;32m2\u001b[0m\n\u001b[0;31m    for idx, label in [\u001b[0m\n\u001b[0m    ^\u001b[0m\n\u001b[0;31mIndentationError\u001b[0m\u001b[0;31m:\u001b[0m unexpected indent\n"
     ]
    }
   ],
   "source": [
    "fig, ax = plt.subplots()\n",
    "    for idx, label in [\n",
    "        (0, \"susceptible\"), (1, \"infected\"), (2, \"recovered\")\n",
    "    ]:\n",
    "        mean = results[:,:,idx].mean(axis=0)\n",
    "        ax.plot(t, mean, label=label, color=colors[idx])\n",
    "        if confidence and results.shape[0] > 1:\n",
    "            std = results[:,:,idx].std(axis=0)\n",
    "            ax.fill_between(\n",
    "                t,\n",
    "                mean - std,\n",
    "                mean + std,\n",
    "                alpha=0.3,\n",
    "                color=colors[idx],\n",
    "            )\n",
    "    plt.ylabel(\"population\")\n",
    "    plt.xlabel(\"iterations\")\n",
    "    plt.title((\n",
    "        \"SIR using Gillespie’s discrete event model (%s)\" % config_str(config)\n",
    "    ))\n",
    "    plt.legend()\n",
    "    plt.show()\n",
    "    plt.show()"
   ]
  },
  {
   "cell_type": "code",
   "execution_count": 9,
   "id": "61d4a244-1419-4d69-86dd-4bcd9a52fe9b",
   "metadata": {},
   "outputs": [
    {
     "ename": "NameError",
     "evalue": "name '_plot_sir' is not defined",
     "output_type": "error",
     "traceback": [
      "\u001b[0;31m---------------------------------------------------------------------------\u001b[0m",
      "\u001b[0;31mNameError\u001b[0m                                 Traceback (most recent call last)",
      "\u001b[0;32m/var/folders/r0/g076kbw90cs5scw1k46_049r0000gn/T/ipykernel_6478/2903383952.py\u001b[0m in \u001b[0;36m<module>\u001b[0;34m\u001b[0m\n\u001b[1;32m      1\u001b[0m \u001b[0mstart\u001b[0m \u001b[0;34m=\u001b[0m \u001b[0;36m0\u001b[0m\u001b[0;34m\u001b[0m\u001b[0;34m\u001b[0m\u001b[0m\n\u001b[0;32m----> 2\u001b[0;31m fig, ax = _plot_sir({\n\u001b[0m\u001b[1;32m      3\u001b[0m     \u001b[0;34m\"Infected\"\u001b[0m\u001b[0;34m:\u001b[0m \u001b[0;34m(\u001b[0m\u001b[0mt\u001b[0m\u001b[0;34m.\u001b[0m\u001b[0mmean\u001b[0m\u001b[0;34m(\u001b[0m\u001b[0maxis\u001b[0m\u001b[0;34m=\u001b[0m\u001b[0;36m0\u001b[0m\u001b[0;34m)\u001b[0m\u001b[0;34m[\u001b[0m\u001b[0mstart\u001b[0m\u001b[0;34m:\u001b[0m\u001b[0;34m]\u001b[0m\u001b[0;34m,\u001b[0m \u001b[0mresults\u001b[0m\u001b[0;34m[\u001b[0m\u001b[0;34m:\u001b[0m\u001b[0;34m,\u001b[0m\u001b[0mstart\u001b[0m\u001b[0;34m:\u001b[0m\u001b[0;34m,\u001b[0m\u001b[0;36m1\u001b[0m\u001b[0;34m]\u001b[0m \u001b[0;34m/\u001b[0m \u001b[0mconfig\u001b[0m\u001b[0;34m[\u001b[0m\u001b[0;34m\"N_pop\"\u001b[0m\u001b[0;34m]\u001b[0m\u001b[0;34m)\u001b[0m\u001b[0;34m\u001b[0m\u001b[0;34m\u001b[0m\u001b[0m\n\u001b[1;32m      4\u001b[0m }, config=config)\n\u001b[1;32m      5\u001b[0m \u001b[0max\u001b[0m\u001b[0;34m.\u001b[0m\u001b[0maxhline\u001b[0m\u001b[0;34m(\u001b[0m\u001b[0my\u001b[0m\u001b[0;34m=\u001b[0m\u001b[0mI_equilibrium\u001b[0m\u001b[0;34m,\u001b[0m \u001b[0mcolor\u001b[0m\u001b[0;34m=\u001b[0m\u001b[0;34m'gray'\u001b[0m\u001b[0;34m,\u001b[0m \u001b[0mlabel\u001b[0m\u001b[0;34m=\u001b[0m\u001b[0;34m\"Equilibrium\"\u001b[0m\u001b[0;34m,\u001b[0m \u001b[0mlinestyle\u001b[0m\u001b[0;34m=\u001b[0m\u001b[0;34m'--'\u001b[0m\u001b[0;34m)\u001b[0m\u001b[0;34m\u001b[0m\u001b[0;34m\u001b[0m\u001b[0m\n",
      "\u001b[0;31mNameError\u001b[0m: name '_plot_sir' is not defined"
     ]
    }
   ],
   "source": [
    "start = 0\n",
    "fig, ax = _plot_sir({\n",
    "    \"Infected\": (t.mean(axis=0)[start:], results[:,start:,1] / config[\"N_pop\"])\n",
    "}, config=config)\n",
    "ax.axhline(y=I_equilibrium, color='gray', label=\"Equilibrium\", linestyle='--')\n",
    "plt.ylabel(\"fraction of population\")\n",
    "plt.legend()\n",
    "plt.tight_layout()\n",
    "plt.show()"
   ]
  },
  {
   "cell_type": "code",
   "execution_count": 10,
   "id": "65a572e1-7a16-4415-93cb-062ad527e7ef",
   "metadata": {},
   "outputs": [
    {
     "ename": "NameError",
     "evalue": "name 'dn' is not defined",
     "output_type": "error",
     "traceback": [
      "\u001b[0;31m---------------------------------------------------------------------------\u001b[0m",
      "\u001b[0;31mNameError\u001b[0m                                 Traceback (most recent call last)",
      "\u001b[0;32m/var/folders/r0/g076kbw90cs5scw1k46_049r0000gn/T/ipykernel_6478/509166030.py\u001b[0m in \u001b[0;36m<module>\u001b[0;34m\u001b[0m\n\u001b[1;32m      1\u001b[0m \u001b[0;31m# create a dynamic SIR model\u001b[0m\u001b[0;34m\u001b[0m\u001b[0;34m\u001b[0m\u001b[0m\n\u001b[0;32m----> 2\u001b[0;31m \u001b[0mdg\u001b[0m \u001b[0;34m=\u001b[0m \u001b[0mdn\u001b[0m\u001b[0;34m.\u001b[0m\u001b[0mDynGraph\u001b[0m\u001b[0;34m(\u001b[0m\u001b[0;34m)\u001b[0m\u001b[0;34m\u001b[0m\u001b[0;34m\u001b[0m\u001b[0m\n\u001b[0m\u001b[1;32m      3\u001b[0m \u001b[0;34m\u001b[0m\u001b[0m\n\u001b[1;32m      4\u001b[0m \u001b[0;31m# start the graph as erdos renyi with 200 nodes\u001b[0m\u001b[0;34m\u001b[0m\u001b[0;34m\u001b[0m\u001b[0m\n\u001b[1;32m      5\u001b[0m \u001b[0mg\u001b[0m \u001b[0;34m=\u001b[0m \u001b[0mnx\u001b[0m\u001b[0;34m.\u001b[0m\u001b[0merdos_renyi_graph\u001b[0m\u001b[0;34m(\u001b[0m\u001b[0;36m200\u001b[0m\u001b[0;34m,\u001b[0m \u001b[0;36m0.01\u001b[0m\u001b[0;34m)\u001b[0m\u001b[0;34m\u001b[0m\u001b[0;34m\u001b[0m\u001b[0m\n",
      "\u001b[0;31mNameError\u001b[0m: name 'dn' is not defined"
     ]
    }
   ],
   "source": [
    "# create a dynamic SIR model\n",
    "dg = dn.DynGraph()\n",
    "\n",
    "# start the graph as erdos renyi with 200 nodes\n",
    "g = nx.erdos_renyi_graph(200, 0.01)\n",
    "# dg.add_interactions_from(g.edges(), t)\n",
    "dg.add_interactions_from(g.edges())\n",
    "\n",
    "for t in range(0, 30):\n",
    "    # g = nx.erdos_renyi_graph(200, 0.01)\n",
    "    # dg.add_interactions_from(g.edges(), t)\n",
    "    pass\n",
    "    \n",
    "model = dm.DynSIRModel(dg)\n",
    "\n",
    "config = mc.Configuration()\n",
    "config.add_model_parameter('beta', 0.01)\n",
    "config.add_model_parameter('gamma', 0.001)\n",
    "config.add_model_parameter(\"percentage_infected\", 0.1)\n",
    "model.set_initial_status(config)\n",
    "\n",
    "# Simulate snapshot based execution\n",
    "iterations = model.execute_snapshots()\n",
    "trends = model.build_trends(iterations)\n",
    "\n",
    "viz = DiffusionTrend(model, trends)\n",
    "viz.plot()"
   ]
  },
  {
   "cell_type": "code",
   "execution_count": 11,
   "id": "c57ce34c-aef7-4c10-9edb-40cb79213685",
   "metadata": {},
   "outputs": [
    {
     "ename": "SyntaxError",
     "evalue": "invalid syntax (2867967755.py, line 14)",
     "output_type": "error",
     "traceback": [
      "\u001b[0;36m  File \u001b[0;32m\"/var/folders/r0/g076kbw90cs5scw1k46_049r0000gn/T/ipykernel_6478/2867967755.py\"\u001b[0;36m, line \u001b[0;32m14\u001b[0m\n\u001b[0;31m    deaths =\u001b[0m\n\u001b[0m             ^\u001b[0m\n\u001b[0;31mSyntaxError\u001b[0m\u001b[0;31m:\u001b[0m invalid syntax\n"
     ]
    }
   ],
   "source": [
    "# create a SIR model with demographics\n",
    "\n",
    "sir_demo = gc.CompositeModel(g)\n",
    "\n",
    "# Model statuses\n",
    "sir_demo.add_status(\"Susceptible\")\n",
    "sir_demo.add_status(\"Infected\")\n",
    "sir_demo.add_status(\"Recovered\")\n",
    "# sir_demo.add_status(\"Dead\")\n",
    "# sir_demo.add_status(\"Unborn\")\n",
    "\n",
    "# Compartment definition\n",
    "imports = ns.NodeStochastic(0.01, triggering_status=\"Infected\")\n",
    "deaths = \n",
    "s_to_i = ns.NodeStochastic(0.02, triggering_status=\"Infected\")\n",
    "i_to_r = ns.NodeStochastic(0.01) # \n",
    "\n",
    "# Rule definition\n",
    "sir_demo.add_rule(\"Susceptible\", \"Infected\", s_to_i)\n",
    "sir_demo.add_rule(\"Susceptible\", \"Infected\", s_to_i)\n",
    "sir_demo.add_rule(\"Susceptible\", \"Infected\", s_to_i)\n",
    "sir_demo.add_rule(\"Infected\", \"Removed\", i_to_r)"
   ]
  },
  {
   "cell_type": "code",
   "execution_count": 12,
   "id": "87f19e9f-1452-4ac2-85b8-04d09ab2c4bb",
   "metadata": {},
   "outputs": [
    {
     "ename": "SyntaxError",
     "evalue": "invalid syntax (2409936003.py, line 62)",
     "output_type": "error",
     "traceback": [
      "\u001b[0;36m  File \u001b[0;32m\"/var/folders/r0/g076kbw90cs5scw1k46_049r0000gn/T/ipykernel_6478/2409936003.py\"\u001b[0;36m, line \u001b[0;32m62\u001b[0m\n\u001b[0;31m    node for node, nstatus in future.utils.iteritems(self.status)\u001b[0m\n\u001b[0m         ^\u001b[0m\n\u001b[0;31mSyntaxError\u001b[0m\u001b[0;31m:\u001b[0m invalid syntax\n"
     ]
    }
   ],
   "source": [
    "# create a proper SIR model with demography and imports\n",
    "class SIRModel(DiffusionModel):\n",
    "    \"\"\"\n",
    "       Model Parameters to be specified via ModelConfig\n",
    "       :param beta: The infection rate (float value in [0,1])\n",
    "       :param gamma: The recovery rate (float value in [0,1])\n",
    "    \"\"\"\n",
    "\n",
    "    def __init__(self, graph, seed=None):\n",
    "        super(self.__class__, self).__init__(graph, seed)\n",
    "        self.available_statuses = {\n",
    "            \"Susceptible\": 0,\n",
    "            \"Infected\": 1,\n",
    "            \"Removed\": 2\n",
    "        }\n",
    "\n",
    "        self.parameters = {\n",
    "            \"model\": {\n",
    "                \"beta\": {\n",
    "                    \"descr\": \"Infection rate\",\n",
    "                    \"range\": [0, 1],\n",
    "                    \"optional\": False},\n",
    "                \"gamma\": {\n",
    "                    \"descr\": \"Recovery rate\",\n",
    "                    \"range\": [0, 1],\n",
    "                    \"optional\": False},\n",
    "                \"tp_rate\": {\n",
    "                    \"descr\": \"Whether if the infection rate depends on the number of infected neighbors\",\n",
    "                    \"range\": [0, 1],\n",
    "                    \"optional\": True,\n",
    "                    \"default\": 1\n",
    "                }\n",
    "            },\n",
    "            \"nodes\": {},\n",
    "            \"edges\": {},\n",
    "        }\n",
    "\n",
    "        self.active = []\n",
    "        self.name = \"SIR\"\n",
    "\n",
    "    def iteration(self, node_status=True):\n",
    "        \"\"\"\n",
    "        Execute a single model iteration\n",
    "        :return: Iteration_id, Incremental node status (dictionary node->status)\n",
    "        \"\"\"\n",
    "        self.clean_initial_status(self.available_statuses.values())\n",
    "\n",
    "        actual_status = {node: nstatus for node, nstatus in future.utils.iteritems(self.status)}\n",
    "        self.active = [node for node, nstatus in future.utils.iteritems(self.status) if nstatus != self.available_statuses['Susceptible']]\n",
    "\n",
    "        if self.actual_iteration == 0:\n",
    "            self.actual_iteration += 1\n",
    "            delta, node_count, status_delta = self.status_delta(actual_status)\n",
    "            if node_status:\n",
    "                return {\"iteration\": 0, \"status\": actual_status.copy(),\n",
    "                        \"node_count\": node_count.copy(), \"status_delta\": status_delta.copy()}\n",
    "            else:\n",
    "                return {\"iteration\": 0, \"status\": {},\n",
    "                        \"node_count\": node_count.copy(), \"status_delta\": status_delta.copy()}\n",
    "\n",
    "        # add births and deaths to all\n",
    "        node for node, nstatus in future.utils.iteritems(self.status)\n",
    "            \n",
    "        for u in self.active: # infected and recovered \n",
    "\n",
    "            u_status = self.status[u]\n",
    "                        \n",
    "            if u_status == 1: # infected\n",
    "\n",
    "                if self.graph.directed:\n",
    "                    susceptible_neighbors = [v for v in self.graph.successors(u) if self.status[v] == 0]\n",
    "                else:\n",
    "                    susceptible_neighbors = [v for v in self.graph.neighbors(u) if self.status[v] == 0]\n",
    "                \n",
    "                for v in susceptible_neighbors:\n",
    "                    eventp = np.random.random_sample()\n",
    "                    if eventp < self.params['model']['beta']:\n",
    "                        actual_status[v] = 1\n",
    "\n",
    "                eventp = np.random.random_sample()\n",
    "                if eventp < self.params['model']['gamma']:\n",
    "                    actual_status[u] = 2\n",
    "\n",
    "        delta, node_count, status_delta = self.status_delta(actual_status)\n",
    "        self.status = actual_status\n",
    "        self.actual_iteration += 1\n",
    "\n",
    "        if node_status:\n",
    "            return {\"iteration\": self.actual_iteration - 1, \"status\": delta.copy(),\n",
    "                    \"node_count\": node_count.copy(), \"status_delta\": status_delta.copy()}\n",
    "        else:\n",
    "            return {\"iteration\": self.actual_iteration - 1, \"status\": {},\n",
    "                    \"node_count\": node_count.copy(), \"status_delta\": status_delta.copy()}"
   ]
  },
  {
   "cell_type": "code",
   "execution_count": 13,
   "id": "b418d14b-5df2-43fa-948f-31d8fff3bb12",
   "metadata": {},
   "outputs": [
    {
     "ename": "NameError",
     "evalue": "name 'beta' is not defined",
     "output_type": "error",
     "traceback": [
      "\u001b[0;31m---------------------------------------------------------------------------\u001b[0m",
      "\u001b[0;31mNameError\u001b[0m                                 Traceback (most recent call last)",
      "\u001b[0;32m/var/folders/r0/g076kbw90cs5scw1k46_049r0000gn/T/ipykernel_6478/2834609086.py\u001b[0m in \u001b[0;36m<module>\u001b[0;34m\u001b[0m\n\u001b[1;32m      1\u001b[0m \u001b[0;31m# endemic equilibrium\u001b[0m\u001b[0;34m\u001b[0m\u001b[0;34m\u001b[0m\u001b[0m\n\u001b[0;32m----> 2\u001b[0;31m \u001b[0mR_0\u001b[0m \u001b[0;34m=\u001b[0m \u001b[0mbeta\u001b[0m\u001b[0;34m/\u001b[0m\u001b[0mgamma\u001b[0m\u001b[0;34m\u001b[0m\u001b[0;34m\u001b[0m\u001b[0m\n\u001b[0m\u001b[1;32m      3\u001b[0m \u001b[0mSstar\u001b[0m \u001b[0;34m=\u001b[0m \u001b[0;36m1.0\u001b[0m\u001b[0;34m/\u001b[0m\u001b[0mR_0\u001b[0m\u001b[0;34m\u001b[0m\u001b[0;34m\u001b[0m\u001b[0m\n\u001b[1;32m      4\u001b[0m \u001b[0mIstar\u001b[0m \u001b[0;34m=\u001b[0m \u001b[0mmu\u001b[0m\u001b[0;34m/\u001b[0m\u001b[0mbeta\u001b[0m\u001b[0;34m*\u001b[0m\u001b[0;34m(\u001b[0m\u001b[0mR_0\u001b[0m \u001b[0;34m-\u001b[0m \u001b[0;36m1\u001b[0m\u001b[0;34m)\u001b[0m\u001b[0;34m\u001b[0m\u001b[0;34m\u001b[0m\u001b[0m\n\u001b[1;32m      5\u001b[0m \u001b[0mRstar\u001b[0m \u001b[0;34m=\u001b[0m \u001b[0;36m1.0\u001b[0m \u001b[0;34m-\u001b[0m \u001b[0mSstar\u001b[0m \u001b[0;34m-\u001b[0m \u001b[0mIstar\u001b[0m\u001b[0;34m\u001b[0m\u001b[0;34m\u001b[0m\u001b[0m\n",
      "\u001b[0;31mNameError\u001b[0m: name 'beta' is not defined"
     ]
    }
   ],
   "source": [
    "# endemic equilibrium\n",
    "R_0 = beta/gamma\n",
    "Sstar = 1.0/R_0\n",
    "Istar = mu/beta*(R_0 - 1)\n",
    "Rstar = 1.0 - Sstar - Istar"
   ]
  },
  {
   "cell_type": "code",
   "execution_count": 14,
   "id": "05605bec-ccc6-48a7-bf7d-c96a76b6d4a0",
   "metadata": {},
   "outputs": [
    {
     "ename": "NameError",
     "evalue": "name 'plt' is not defined",
     "output_type": "error",
     "traceback": [
      "\u001b[0;31m---------------------------------------------------------------------------\u001b[0m",
      "\u001b[0;31mNameError\u001b[0m                                 Traceback (most recent call last)",
      "\u001b[0;32m/var/folders/r0/g076kbw90cs5scw1k46_049r0000gn/T/ipykernel_6478/3424713242.py\u001b[0m in \u001b[0;36m<module>\u001b[0;34m\u001b[0m\n\u001b[0;32m----> 1\u001b[0;31m \u001b[0mplt\u001b[0m\u001b[0;34m.\u001b[0m\u001b[0mplot\u001b[0m\u001b[0;34m(\u001b[0m\u001b[0mresults\u001b[0m\u001b[0;34m[\u001b[0m\u001b[0;34m:\u001b[0m\u001b[0;34m,\u001b[0m\u001b[0;36m0\u001b[0m\u001b[0;34m]\u001b[0m\u001b[0;34m,\u001b[0m \u001b[0mlabel\u001b[0m\u001b[0;34m=\u001b[0m\u001b[0;34m\"susceptible\"\u001b[0m\u001b[0;34m)\u001b[0m\u001b[0;34m\u001b[0m\u001b[0;34m\u001b[0m\u001b[0m\n\u001b[0m\u001b[1;32m      2\u001b[0m \u001b[0mplt\u001b[0m\u001b[0;34m.\u001b[0m\u001b[0mplot\u001b[0m\u001b[0;34m(\u001b[0m\u001b[0mresults\u001b[0m\u001b[0;34m[\u001b[0m\u001b[0;34m:\u001b[0m\u001b[0;34m,\u001b[0m\u001b[0;36m1\u001b[0m\u001b[0;34m]\u001b[0m\u001b[0;34m,\u001b[0m \u001b[0mlabel\u001b[0m\u001b[0;34m=\u001b[0m\u001b[0;34m\"infected\"\u001b[0m\u001b[0;34m)\u001b[0m\u001b[0;34m\u001b[0m\u001b[0;34m\u001b[0m\u001b[0m\n\u001b[1;32m      3\u001b[0m \u001b[0mplt\u001b[0m\u001b[0;34m.\u001b[0m\u001b[0mplot\u001b[0m\u001b[0;34m(\u001b[0m\u001b[0mresults\u001b[0m\u001b[0;34m[\u001b[0m\u001b[0;34m:\u001b[0m\u001b[0;34m,\u001b[0m\u001b[0;36m2\u001b[0m\u001b[0;34m]\u001b[0m\u001b[0;34m,\u001b[0m \u001b[0mlabel\u001b[0m\u001b[0;34m=\u001b[0m\u001b[0;34m\"recovered\"\u001b[0m\u001b[0;34m)\u001b[0m\u001b[0;34m\u001b[0m\u001b[0;34m\u001b[0m\u001b[0m\n\u001b[1;32m      4\u001b[0m \u001b[0mplt\u001b[0m\u001b[0;34m.\u001b[0m\u001b[0mshow\u001b[0m\u001b[0;34m(\u001b[0m\u001b[0;34m)\u001b[0m\u001b[0;34m\u001b[0m\u001b[0;34m\u001b[0m\u001b[0m\n\u001b[1;32m      5\u001b[0m \u001b[0;34m\u001b[0m\u001b[0m\n",
      "\u001b[0;31mNameError\u001b[0m: name 'plt' is not defined"
     ]
    }
   ],
   "source": [
    "plt.plot(results[:,0], label=\"susceptible\")\n",
    "plt.plot(results[:,1], label=\"infected\")\n",
    "plt.plot(results[:,2], label=\"recovered\")\n",
    "plt.show()\n",
    "\n",
    "print(results[:,0].shape)\n",
    "cov = np.cov(results[:,0], results[:,1])[0,1]\n",
    "print(cov)\n",
    "plt.plot(cov, label=\"susceptible\")\n",
    "plt.show()\n",
    "# pprint(simulations)"
   ]
  },
  {
   "cell_type": "code",
   "execution_count": 15,
   "id": "13ffa338-87a3-4893-8129-21d853fe5cd2",
   "metadata": {},
   "outputs": [
    {
     "ename": "SyntaxError",
     "evalue": "invalid syntax (2192070824.py, line 2)",
     "output_type": "error",
     "traceback": [
      "\u001b[0;36m  File \u001b[0;32m\"/var/folders/r0/g076kbw90cs5scw1k46_049r0000gn/T/ipykernel_6478/2192070824.py\"\u001b[0;36m, line \u001b[0;32m2\u001b[0m\n\u001b[0;31m    - It is generally impossible to predetermine the precise disease prevalence at any given point in the future.\u001b[0m\n\u001b[0m                      ^\u001b[0m\n\u001b[0;31mSyntaxError\u001b[0m\u001b[0;31m:\u001b[0m invalid syntax\n"
     ]
    }
   ],
   "source": [
    "#### Variability between simulations\n",
    "- It is generally impossible to predetermine the precise disease prevalence at any given point in the future.\n",
    "\n",
    "#### Variances and covariance\n",
    "- Stochastic processes lead to variance in the prevalence of disease.\n",
    "- Interaction between stochasticity and underlying deterministic nonlinear dynamics leads to negative covariance between number of susceptibles and infectious.\n",
    "- And because of that, the mean population level $X,Y$ deviate from the deterministic equilibria.\n",
    "\n",
    "#### Increased transients\n",
    "- Stochastic perturbations away from the endemic equilibrium are countered by the restorive forces of the endemic attractor, leading to transient like returns to the endemic equilibrium\n",
    "\n",
    "#### Stochastic Resonance\n",
    "- Stochastic perturbations can excite oscillations close to the natural frequency of the deterministic SIR dynamics. So, stochasticity can excite epidemic oscillations around the endemic state.\n",
    "\n",
    "#### Extinctions\n",
    "- For integer-valued stochastic models, stochasticity can lead to extinctions (that is, the number of infectious individuals goes to zero due to fluctuations), even when $R_0 > 1$.\n",
    "- In closed populations, chance fluctuations will always in the long run lead to extinction of the disease.\n",
    "- Long term persistence only possible via import of the pathogen\n",
    "- Similar extinctions may occur during the early stage of invasion."
   ]
  },
  {
   "cell_type": "code",
   "execution_count": 16,
   "id": "f698fb12-a513-4d47-bab4-21febaf74c77",
   "metadata": {},
   "outputs": [
    {
     "ename": "NameError",
     "evalue": "name 'model' is not defined",
     "output_type": "error",
     "traceback": [
      "\u001b[0;31m---------------------------------------------------------------------------\u001b[0m",
      "\u001b[0;31mNameError\u001b[0m                                 Traceback (most recent call last)",
      "\u001b[0;32m/var/folders/r0/g076kbw90cs5scw1k46_049r0000gn/T/ipykernel_6478/1581685671.py\u001b[0m in \u001b[0;36m<module>\u001b[0;34m\u001b[0m\n\u001b[1;32m      1\u001b[0m \u001b[0;31m# Simulation\u001b[0m\u001b[0;34m\u001b[0m\u001b[0;34m\u001b[0m\u001b[0m\n\u001b[0;32m----> 2\u001b[0;31m \u001b[0mmodel\u001b[0m\u001b[0;34m.\u001b[0m\u001b[0mreset\u001b[0m\u001b[0;34m(\u001b[0m\u001b[0;34m)\u001b[0m\u001b[0;34m\u001b[0m\u001b[0;34m\u001b[0m\u001b[0m\n\u001b[0m\u001b[1;32m      3\u001b[0m \u001b[0miterations\u001b[0m \u001b[0;34m=\u001b[0m \u001b[0mmodel\u001b[0m\u001b[0;34m.\u001b[0m\u001b[0miteration_bunch\u001b[0m\u001b[0;34m(\u001b[0m\u001b[0;36m200\u001b[0m\u001b[0;34m)\u001b[0m\u001b[0;34m\u001b[0m\u001b[0;34m\u001b[0m\u001b[0m\n\u001b[1;32m      4\u001b[0m \u001b[0mtrends\u001b[0m \u001b[0;34m=\u001b[0m \u001b[0mmodel\u001b[0m\u001b[0;34m.\u001b[0m\u001b[0mbuild_trends\u001b[0m\u001b[0;34m(\u001b[0m\u001b[0miterations\u001b[0m\u001b[0;34m)\u001b[0m\u001b[0;34m\u001b[0m\u001b[0;34m\u001b[0m\u001b[0m\n",
      "\u001b[0;31mNameError\u001b[0m: name 'model' is not defined"
     ]
    }
   ],
   "source": [
    "# Simulation\n",
    "model.reset()\n",
    "iterations = model.iteration_bunch(200)\n",
    "trends = model.build_trends(iterations)"
   ]
  },
  {
   "cell_type": "code",
   "execution_count": 17,
   "id": "1d29b37b-fc6d-490d-a2de-443c36b0d3f3",
   "metadata": {},
   "outputs": [
    {
     "ename": "NameError",
     "evalue": "name 'DiffusionTrend' is not defined",
     "output_type": "error",
     "traceback": [
      "\u001b[0;31m---------------------------------------------------------------------------\u001b[0m",
      "\u001b[0;31mNameError\u001b[0m                                 Traceback (most recent call last)",
      "\u001b[0;32m/var/folders/r0/g076kbw90cs5scw1k46_049r0000gn/T/ipykernel_6478/385477612.py\u001b[0m in \u001b[0;36m<module>\u001b[0;34m\u001b[0m\n\u001b[0;32m----> 1\u001b[0;31m \u001b[0mviz\u001b[0m \u001b[0;34m=\u001b[0m \u001b[0mDiffusionTrend\u001b[0m\u001b[0;34m(\u001b[0m\u001b[0mmodel\u001b[0m\u001b[0;34m,\u001b[0m \u001b[0mtrends\u001b[0m\u001b[0;34m)\u001b[0m\u001b[0;34m\u001b[0m\u001b[0;34m\u001b[0m\u001b[0m\n\u001b[0m\u001b[1;32m      2\u001b[0m \u001b[0mp\u001b[0m \u001b[0;34m=\u001b[0m \u001b[0mviz\u001b[0m\u001b[0;34m.\u001b[0m\u001b[0mplot\u001b[0m\u001b[0;34m(\u001b[0m\u001b[0;34m)\u001b[0m\u001b[0;34m\u001b[0m\u001b[0;34m\u001b[0m\u001b[0m\n\u001b[1;32m      3\u001b[0m \u001b[0;31m# width=400, height=400)\u001b[0m\u001b[0;34m\u001b[0m\u001b[0;34m\u001b[0m\u001b[0m\n\u001b[1;32m      4\u001b[0m \u001b[0;31m# show(p)\u001b[0m\u001b[0;34m\u001b[0m\u001b[0;34m\u001b[0m\u001b[0m\n\u001b[1;32m      5\u001b[0m \u001b[0mplt\u001b[0m\u001b[0;34m.\u001b[0m\u001b[0mshow\u001b[0m\u001b[0;34m(\u001b[0m\u001b[0;34m)\u001b[0m\u001b[0;34m\u001b[0m\u001b[0;34m\u001b[0m\u001b[0m\n",
      "\u001b[0;31mNameError\u001b[0m: name 'DiffusionTrend' is not defined"
     ]
    }
   ],
   "source": [
    "viz = DiffusionTrend(model, trends)\n",
    "p = viz.plot()\n",
    "# width=400, height=400)\n",
    "# show(p)\n",
    "plt.show()"
   ]
  },
  {
   "cell_type": "code",
   "execution_count": 18,
   "id": "060167d0-7153-4875-af5a-8d88cfc9dd05",
   "metadata": {},
   "outputs": [
    {
     "ename": "NameError",
     "evalue": "name 'model' is not defined",
     "output_type": "error",
     "traceback": [
      "\u001b[0;31m---------------------------------------------------------------------------\u001b[0m",
      "\u001b[0;31mNameError\u001b[0m                                 Traceback (most recent call last)",
      "\u001b[0;32m/var/folders/r0/g076kbw90cs5scw1k46_049r0000gn/T/ipykernel_6478/1106562135.py\u001b[0m in \u001b[0;36m<module>\u001b[0;34m\u001b[0m\n\u001b[1;32m      1\u001b[0m \u001b[0;32mfrom\u001b[0m \u001b[0mndlib\u001b[0m\u001b[0;34m.\u001b[0m\u001b[0mviz\u001b[0m\u001b[0;34m.\u001b[0m\u001b[0mbokeh\u001b[0m\u001b[0;34m.\u001b[0m\u001b[0mDiffusionPrevalence\u001b[0m \u001b[0;32mimport\u001b[0m \u001b[0mDiffusionPrevalence\u001b[0m\u001b[0;34m\u001b[0m\u001b[0;34m\u001b[0m\u001b[0m\n\u001b[1;32m      2\u001b[0m \u001b[0;34m\u001b[0m\u001b[0m\n\u001b[0;32m----> 3\u001b[0;31m \u001b[0mviz2\u001b[0m \u001b[0;34m=\u001b[0m \u001b[0mDiffusionPrevalence\u001b[0m\u001b[0;34m(\u001b[0m\u001b[0mmodel\u001b[0m\u001b[0;34m,\u001b[0m \u001b[0mtrends\u001b[0m\u001b[0;34m)\u001b[0m\u001b[0;34m\u001b[0m\u001b[0;34m\u001b[0m\u001b[0m\n\u001b[0m\u001b[1;32m      4\u001b[0m \u001b[0mp2\u001b[0m \u001b[0;34m=\u001b[0m \u001b[0mviz2\u001b[0m\u001b[0;34m.\u001b[0m\u001b[0mplot\u001b[0m\u001b[0;34m(\u001b[0m\u001b[0mwidth\u001b[0m\u001b[0;34m=\u001b[0m\u001b[0;36m400\u001b[0m\u001b[0;34m,\u001b[0m \u001b[0mheight\u001b[0m\u001b[0;34m=\u001b[0m\u001b[0;36m400\u001b[0m\u001b[0;34m)\u001b[0m\u001b[0;34m\u001b[0m\u001b[0;34m\u001b[0m\u001b[0m\n\u001b[1;32m      5\u001b[0m \u001b[0mshow\u001b[0m\u001b[0;34m(\u001b[0m\u001b[0mp2\u001b[0m\u001b[0;34m)\u001b[0m\u001b[0;34m\u001b[0m\u001b[0;34m\u001b[0m\u001b[0m\n",
      "\u001b[0;31mNameError\u001b[0m: name 'model' is not defined"
     ]
    }
   ],
   "source": [
    "from ndlib.viz.bokeh.DiffusionPrevalence import DiffusionPrevalence\n",
    "\n",
    "viz2 = DiffusionPrevalence(model, trends)\n",
    "p2 = viz2.plot(width=400, height=400)\n",
    "show(p2)"
   ]
  },
  {
   "cell_type": "code",
   "execution_count": 19,
   "id": "76099488-f3c4-4dc0-8061-e3b0a1369fd7",
   "metadata": {},
   "outputs": [
    {
     "ename": "NameError",
     "evalue": "name 'p' is not defined",
     "output_type": "error",
     "traceback": [
      "\u001b[0;31m---------------------------------------------------------------------------\u001b[0m",
      "\u001b[0;31mNameError\u001b[0m                                 Traceback (most recent call last)",
      "\u001b[0;32m/var/folders/r0/g076kbw90cs5scw1k46_049r0000gn/T/ipykernel_6478/3398596736.py\u001b[0m in \u001b[0;36m<module>\u001b[0;34m\u001b[0m\n\u001b[1;32m      1\u001b[0m \u001b[0;32mfrom\u001b[0m \u001b[0mndlib\u001b[0m\u001b[0;34m.\u001b[0m\u001b[0mviz\u001b[0m\u001b[0;34m.\u001b[0m\u001b[0mbokeh\u001b[0m\u001b[0;34m.\u001b[0m\u001b[0mMultiPlot\u001b[0m \u001b[0;32mimport\u001b[0m \u001b[0mMultiPlot\u001b[0m\u001b[0;34m\u001b[0m\u001b[0;34m\u001b[0m\u001b[0m\n\u001b[1;32m      2\u001b[0m \u001b[0mvm\u001b[0m \u001b[0;34m=\u001b[0m \u001b[0mMultiPlot\u001b[0m\u001b[0;34m(\u001b[0m\u001b[0;34m)\u001b[0m\u001b[0;34m\u001b[0m\u001b[0;34m\u001b[0m\u001b[0m\n\u001b[0;32m----> 3\u001b[0;31m \u001b[0mvm\u001b[0m\u001b[0;34m.\u001b[0m\u001b[0madd_plot\u001b[0m\u001b[0;34m(\u001b[0m\u001b[0mp\u001b[0m\u001b[0;34m)\u001b[0m\u001b[0;34m\u001b[0m\u001b[0;34m\u001b[0m\u001b[0m\n\u001b[0m\u001b[1;32m      4\u001b[0m \u001b[0mvm\u001b[0m\u001b[0;34m.\u001b[0m\u001b[0madd_plot\u001b[0m\u001b[0;34m(\u001b[0m\u001b[0mp2\u001b[0m\u001b[0;34m)\u001b[0m\u001b[0;34m\u001b[0m\u001b[0;34m\u001b[0m\u001b[0m\n\u001b[1;32m      5\u001b[0m \u001b[0mm\u001b[0m \u001b[0;34m=\u001b[0m \u001b[0mvm\u001b[0m\u001b[0;34m.\u001b[0m\u001b[0mplot\u001b[0m\u001b[0;34m(\u001b[0m\u001b[0;34m)\u001b[0m\u001b[0;34m\u001b[0m\u001b[0;34m\u001b[0m\u001b[0m\n",
      "\u001b[0;31mNameError\u001b[0m: name 'p' is not defined"
     ]
    }
   ],
   "source": [
    "from ndlib.viz.bokeh.MultiPlot import MultiPlot\n",
    "vm = MultiPlot()\n",
    "vm.add_plot(p)\n",
    "vm.add_plot(p2)\n",
    "m = vm.plot()\n",
    "show(m)"
   ]
  },
  {
   "cell_type": "code",
   "execution_count": null,
   "id": "94cb8996-87d3-4c44-8e5c-94f7f23f9908",
   "metadata": {},
   "outputs": [],
   "source": []
  }
 ],
 "metadata": {
  "kernelspec": {
   "display_name": "Python 3 (ipykernel)",
   "language": "python",
   "name": "python3"
  },
  "language_info": {
   "codemirror_mode": {
    "name": "ipython",
    "version": 3
   },
   "file_extension": ".py",
   "mimetype": "text/x-python",
   "name": "python",
   "nbconvert_exporter": "python",
   "pygments_lexer": "ipython3",
   "version": "3.9.7"
  }
 },
 "nbformat": 4,
 "nbformat_minor": 5
}
